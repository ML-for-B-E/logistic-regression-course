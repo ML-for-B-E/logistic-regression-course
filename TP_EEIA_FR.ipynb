{
 "cells": [
  {
   "cell_type": "markdown",
   "metadata": {},
   "source": [
    "Version 1, créée par M. Dayé\n",
    "16072023\n",
    "EEIA 2023"
   ]
  },
  {
   "attachments": {},
   "cell_type": "markdown",
   "metadata": {},
   "source": [
    "## TP:  Modèles de probabilité: La régression Logistique\n",
    "### Choix du mode de transport entre la voiture et la moto à l'aide de la régression logistique\n",
    "\n",
    "Dans cette étude de cas, nous allons utiliser des données fictives sur le choix du mode de transport entre la voiture et la moto, puis  prédire la probabilité de choisir l'un ou l'autre mode à partir des conditions de circulation. Vous disposez d'une base de données synthétique nommée *choix_modal_nonencodé.csv*\n",
    "\n",
    "L'objectif de ce TP est d'estimer un modèle de régression logistique de la forme $Prob((voiture=1)/X)=f(Distance, temps, heure de pointe)$ afin de permettre à l'apprenant de comprendre dans le fond cette méthode de classification largement utilisée en *Machine Learning* (ML) notamment. Ici nous ne ferons pas de ML au sens échantillon d'apprentissage/échantillon test, mais nous nous attèlerons à comprendre les foncdements statistiques du modèle et l'analyse de ses indicateurs de performance, en vue de sa bonne exploitation. Nous utiliserons essentiellement à cet effet \n",
    "\n",
    "### Tâche 1 : Charger les librairies nécessaires au travail"
   ]
  },
  {
   "cell_type": "code",
   "execution_count": 1,
   "metadata": {},
   "outputs": [],
   "source": [
    "import pandas as pd\n",
    "import numpy as np\n",
    "import matplotlib.pyplot as plt\n",
    "import seaborn as sns\n",
    "import statsmodels.api as sm\n",
    "from sklearn.linear_model import LinearRegression\n",
    "from sklearn.linear_model import LogisticRegression\n",
    "from sklearn import metrics\n",
    "from sklearn.metrics import confusion_matrix\n",
    "from sklearn.metrics import classification_report\n",
    "from sklearn.metrics import roc_auc_score\n",
    "from sklearn.metrics import roc_curve\n",
    "from sklearn.metrics import precision_recall_fscore_support\n",
    "from sklearn import metrics\n",
    "#from sklearn.model_selection import train_test_split\n",
    "#from jyquickhelper import add_notebook_menu\n",
    "#add_notebook_menu()"
   ]
  },
  {
   "attachments": {},
   "cell_type": "markdown",
   "metadata": {},
   "source": [
    "### Tâche 2: Importer et explorer la base de données "
   ]
  },
  {
   "cell_type": "code",
   "execution_count": 2,
   "metadata": {},
   "outputs": [
    {
     "name": "stdout",
     "output_type": "stream",
     "text": [
      "<class 'pandas.core.frame.DataFrame'>\n",
      "RangeIndex: 1000 entries, 0 to 999\n",
      "Data columns (total 4 columns):\n",
      " #   Column       Non-Null Count  Dtype  \n",
      "---  ------       --------------  -----  \n",
      " 0   Distance     1000 non-null   float64\n",
      " 1   temps        1000 non-null   object \n",
      " 2   HeurePointe  1000 non-null   int64  \n",
      " 3   ChoixMode    1000 non-null   object \n",
      "dtypes: float64(1), int64(1), object(2)\n",
      "memory usage: 31.4+ KB\n"
     ]
    },
    {
     "data": {
      "text/html": [
       "<div>\n",
       "<style scoped>\n",
       "    .dataframe tbody tr th:only-of-type {\n",
       "        vertical-align: middle;\n",
       "    }\n",
       "\n",
       "    .dataframe tbody tr th {\n",
       "        vertical-align: top;\n",
       "    }\n",
       "\n",
       "    .dataframe thead th {\n",
       "        text-align: right;\n",
       "    }\n",
       "</style>\n",
       "<table border=\"1\" class=\"dataframe\">\n",
       "  <thead>\n",
       "    <tr style=\"text-align: right;\">\n",
       "      <th></th>\n",
       "      <th>Distance</th>\n",
       "      <th>temps</th>\n",
       "      <th>HeurePointe</th>\n",
       "      <th>ChoixMode</th>\n",
       "    </tr>\n",
       "  </thead>\n",
       "  <tbody>\n",
       "    <tr>\n",
       "      <th>0</th>\n",
       "      <td>21.197606</td>\n",
       "      <td>ensoleillé</td>\n",
       "      <td>0</td>\n",
       "      <td>voiture</td>\n",
       "    </tr>\n",
       "    <tr>\n",
       "      <th>1</th>\n",
       "      <td>9.298041</td>\n",
       "      <td>pluvieux</td>\n",
       "      <td>1</td>\n",
       "      <td>moto</td>\n",
       "    </tr>\n",
       "    <tr>\n",
       "      <th>2</th>\n",
       "      <td>7.578692</td>\n",
       "      <td>ensoleillé</td>\n",
       "      <td>0</td>\n",
       "      <td>moto</td>\n",
       "    </tr>\n",
       "    <tr>\n",
       "      <th>3</th>\n",
       "      <td>16.988128</td>\n",
       "      <td>pluvieux</td>\n",
       "      <td>0</td>\n",
       "      <td>voiture</td>\n",
       "    </tr>\n",
       "    <tr>\n",
       "      <th>4</th>\n",
       "      <td>21.864600</td>\n",
       "      <td>ensoleillé</td>\n",
       "      <td>0</td>\n",
       "      <td>moto</td>\n",
       "    </tr>\n",
       "    <tr>\n",
       "      <th>...</th>\n",
       "      <td>...</td>\n",
       "      <td>...</td>\n",
       "      <td>...</td>\n",
       "      <td>...</td>\n",
       "    </tr>\n",
       "    <tr>\n",
       "      <th>995</th>\n",
       "      <td>8.667526</td>\n",
       "      <td>ensoleillé</td>\n",
       "      <td>0</td>\n",
       "      <td>voiture</td>\n",
       "    </tr>\n",
       "    <tr>\n",
       "      <th>996</th>\n",
       "      <td>21.036546</td>\n",
       "      <td>pluvieux</td>\n",
       "      <td>0</td>\n",
       "      <td>voiture</td>\n",
       "    </tr>\n",
       "    <tr>\n",
       "      <th>997</th>\n",
       "      <td>11.067236</td>\n",
       "      <td>ensoleillé</td>\n",
       "      <td>0</td>\n",
       "      <td>voiture</td>\n",
       "    </tr>\n",
       "    <tr>\n",
       "      <th>998</th>\n",
       "      <td>1.120886</td>\n",
       "      <td>pluvieux</td>\n",
       "      <td>0</td>\n",
       "      <td>moto</td>\n",
       "    </tr>\n",
       "    <tr>\n",
       "      <th>999</th>\n",
       "      <td>9.551947</td>\n",
       "      <td>ensoleillé</td>\n",
       "      <td>0</td>\n",
       "      <td>voiture</td>\n",
       "    </tr>\n",
       "  </tbody>\n",
       "</table>\n",
       "<p>1000 rows × 4 columns</p>\n",
       "</div>"
      ],
      "text/plain": [
       "      Distance       temps  HeurePointe ChoixMode\n",
       "0    21.197606  ensoleillé            0   voiture\n",
       "1     9.298041    pluvieux            1      moto\n",
       "2     7.578692  ensoleillé            0      moto\n",
       "3    16.988128    pluvieux            0   voiture\n",
       "4    21.864600  ensoleillé            0      moto\n",
       "..         ...         ...          ...       ...\n",
       "995   8.667526  ensoleillé            0   voiture\n",
       "996  21.036546    pluvieux            0   voiture\n",
       "997  11.067236  ensoleillé            0   voiture\n",
       "998   1.120886    pluvieux            0      moto\n",
       "999   9.551947  ensoleillé            0   voiture\n",
       "\n",
       "[1000 rows x 4 columns]"
      ]
     },
     "execution_count": 2,
     "metadata": {},
     "output_type": "execute_result"
    }
   ],
   "source": [
    "## Importation des données\n",
    "#data = pd.read_csv(\"choix_modal.csv\",   sep=';')\n",
    "data = pd.read_csv(\"choix_modal_nonencodé.csv\",   sep=';')\n",
    "\n",
    "## Exploration\n",
    "\n",
    "data.head(5)\n",
    "##\n",
    "data.info()\n",
    "#data.describe()\n",
    "#data.describe(include=object)\n",
    "data\n",
    "\n"
   ]
  },
  {
   "attachments": {},
   "cell_type": "markdown",
   "metadata": {},
   "source": [
    "#### Tâche 3 : Quelle est la distribution effective du choix modal (choix voiture et choix de moto) en fonction du temps qu'il fait (probabilité conditionnelle de choix modal) ? \n",
    "Indice: Une possibilité est de faire un tableau croisé"
   ]
  },
  {
   "cell_type": "code",
   "execution_count": 3,
   "metadata": {},
   "outputs": [
    {
     "data": {
      "text/html": [
       "<div>\n",
       "<style scoped>\n",
       "    .dataframe tbody tr th:only-of-type {\n",
       "        vertical-align: middle;\n",
       "    }\n",
       "\n",
       "    .dataframe tbody tr th {\n",
       "        vertical-align: top;\n",
       "    }\n",
       "\n",
       "    .dataframe thead th {\n",
       "        text-align: right;\n",
       "    }\n",
       "</style>\n",
       "<table border=\"1\" class=\"dataframe\">\n",
       "  <thead>\n",
       "    <tr style=\"text-align: right;\">\n",
       "      <th>temps</th>\n",
       "      <th>ensoleillé</th>\n",
       "      <th>pluvieux</th>\n",
       "      <th>Total</th>\n",
       "    </tr>\n",
       "    <tr>\n",
       "      <th>ChoixMode</th>\n",
       "      <th></th>\n",
       "      <th></th>\n",
       "      <th></th>\n",
       "    </tr>\n",
       "  </thead>\n",
       "  <tbody>\n",
       "    <tr>\n",
       "      <th>moto</th>\n",
       "      <td>222</td>\n",
       "      <td>211</td>\n",
       "      <td>433</td>\n",
       "    </tr>\n",
       "    <tr>\n",
       "      <th>voiture</th>\n",
       "      <td>287</td>\n",
       "      <td>280</td>\n",
       "      <td>567</td>\n",
       "    </tr>\n",
       "    <tr>\n",
       "      <th>Total</th>\n",
       "      <td>509</td>\n",
       "      <td>491</td>\n",
       "      <td>1000</td>\n",
       "    </tr>\n",
       "  </tbody>\n",
       "</table>\n",
       "</div>"
      ],
      "text/plain": [
       "temps      ensoleillé  pluvieux  Total\n",
       "ChoixMode                             \n",
       "moto              222       211    433\n",
       "voiture           287       280    567\n",
       "Total             509       491   1000"
      ]
     },
     "execution_count": 3,
     "metadata": {},
     "output_type": "execute_result"
    }
   ],
   "source": [
    "pd.crosstab(data.ChoixMode, data.temps, margins=True, margins_name=\"Total\")"
   ]
  },
  {
   "cell_type": "code",
   "execution_count": 4,
   "metadata": {},
   "outputs": [
    {
     "data": {
      "text/html": [
       "<div>\n",
       "<style scoped>\n",
       "    .dataframe tbody tr th:only-of-type {\n",
       "        vertical-align: middle;\n",
       "    }\n",
       "\n",
       "    .dataframe tbody tr th {\n",
       "        vertical-align: top;\n",
       "    }\n",
       "\n",
       "    .dataframe thead th {\n",
       "        text-align: right;\n",
       "    }\n",
       "</style>\n",
       "<table border=\"1\" class=\"dataframe\">\n",
       "  <thead>\n",
       "    <tr style=\"text-align: right;\">\n",
       "      <th>temps</th>\n",
       "      <th>ensoleillé</th>\n",
       "      <th>pluvieux</th>\n",
       "      <th>All</th>\n",
       "    </tr>\n",
       "    <tr>\n",
       "      <th>ChoixMode</th>\n",
       "      <th></th>\n",
       "      <th></th>\n",
       "      <th></th>\n",
       "    </tr>\n",
       "  </thead>\n",
       "  <tbody>\n",
       "    <tr>\n",
       "      <th>moto</th>\n",
       "      <td>44.0</td>\n",
       "      <td>43.0</td>\n",
       "      <td>43.0</td>\n",
       "    </tr>\n",
       "    <tr>\n",
       "      <th>voiture</th>\n",
       "      <td>56.0</td>\n",
       "      <td>57.0</td>\n",
       "      <td>57.0</td>\n",
       "    </tr>\n",
       "  </tbody>\n",
       "</table>\n",
       "</div>"
      ],
      "text/plain": [
       "temps      ensoleillé  pluvieux   All\n",
       "ChoixMode                            \n",
       "moto             44.0      43.0  43.0\n",
       "voiture          56.0      57.0  57.0"
      ]
     },
     "execution_count": 4,
     "metadata": {},
     "output_type": "execute_result"
    }
   ],
   "source": [
    "pd.crosstab(data.ChoixMode, data.temps, normalize='columns', margins=True).round(2)*100"
   ]
  },
  {
   "cell_type": "markdown",
   "metadata": {},
   "source": [
    "#### Tâche 4: Représenter graphiquement le choix modal (part modale des motos et celle des voitures dans la base)"
   ]
  },
  {
   "cell_type": "code",
   "execution_count": 5,
   "metadata": {},
   "outputs": [
    {
     "data": {
      "text/plain": [
       "ChoixMode\n",
       "moto       43.3\n",
       "voiture    56.7\n",
       "dtype: float64"
      ]
     },
     "execution_count": 5,
     "metadata": {},
     "output_type": "execute_result"
    },
    {
     "data": {
      "image/png": "[encoded data removed]",
      "text/plain": [
       "<Figure size 640x480 with 1 Axes>"
      ]
     },
     "metadata": {},
     "output_type": "display_data"
    }
   ],
   "source": [
    "\n",
    "# Generating a bar chart for a single column\n",
    "#%matplotlib inline\n",
    "#GroupedData_mode=data.groupby(by='ChoixMode').size()\n",
    "GroupedData_mode=data.groupby(by='ChoixMode').size()/(1000)*100\n",
    "GroupedData_mode.plot.bar()\n",
    "\n",
    "GroupedData_mode"
   ]
  },
  {
   "cell_type": "markdown",
   "metadata": {},
   "source": [
    "#### Tâche 5: En vue de préparer les variables pour estimer le modèle, encoder les variables qualitative binaire *ChoixMode* (appeler la nouvelle  variable binaire *voiture* avec voiture=1 si voiture et 0 sinon) et *temps* (appeler la nouvelle  variable binaire *pluvieux* avec pluveux=1 si temps pluvieux et 0 sinon)"
   ]
  },
  {
   "cell_type": "code",
   "execution_count": 6,
   "metadata": {},
   "outputs": [
    {
     "data": {
      "text/html": [
       "<div>\n",
       "<style scoped>\n",
       "    .dataframe tbody tr th:only-of-type {\n",
       "        vertical-align: middle;\n",
       "    }\n",
       "\n",
       "    .dataframe tbody tr th {\n",
       "        vertical-align: top;\n",
       "    }\n",
       "\n",
       "    .dataframe thead th {\n",
       "        text-align: right;\n",
       "    }\n",
       "</style>\n",
       "<table border=\"1\" class=\"dataframe\">\n",
       "  <thead>\n",
       "    <tr style=\"text-align: right;\">\n",
       "      <th></th>\n",
       "      <th>Distance</th>\n",
       "      <th>temps</th>\n",
       "      <th>HeurePointe</th>\n",
       "      <th>ChoixMode</th>\n",
       "      <th>Voiture</th>\n",
       "      <th>pluvieux</th>\n",
       "    </tr>\n",
       "  </thead>\n",
       "  <tbody>\n",
       "    <tr>\n",
       "      <th>0</th>\n",
       "      <td>21.197606</td>\n",
       "      <td>ensoleillé</td>\n",
       "      <td>0</td>\n",
       "      <td>voiture</td>\n",
       "      <td>1</td>\n",
       "      <td>0</td>\n",
       "    </tr>\n",
       "    <tr>\n",
       "      <th>1</th>\n",
       "      <td>9.298041</td>\n",
       "      <td>pluvieux</td>\n",
       "      <td>1</td>\n",
       "      <td>moto</td>\n",
       "      <td>0</td>\n",
       "      <td>1</td>\n",
       "    </tr>\n",
       "    <tr>\n",
       "      <th>2</th>\n",
       "      <td>7.578692</td>\n",
       "      <td>ensoleillé</td>\n",
       "      <td>0</td>\n",
       "      <td>moto</td>\n",
       "      <td>0</td>\n",
       "      <td>0</td>\n",
       "    </tr>\n",
       "    <tr>\n",
       "      <th>3</th>\n",
       "      <td>16.988128</td>\n",
       "      <td>pluvieux</td>\n",
       "      <td>0</td>\n",
       "      <td>voiture</td>\n",
       "      <td>1</td>\n",
       "      <td>1</td>\n",
       "    </tr>\n",
       "    <tr>\n",
       "      <th>4</th>\n",
       "      <td>21.864600</td>\n",
       "      <td>ensoleillé</td>\n",
       "      <td>0</td>\n",
       "      <td>moto</td>\n",
       "      <td>0</td>\n",
       "      <td>0</td>\n",
       "    </tr>\n",
       "    <tr>\n",
       "      <th>...</th>\n",
       "      <td>...</td>\n",
       "      <td>...</td>\n",
       "      <td>...</td>\n",
       "      <td>...</td>\n",
       "      <td>...</td>\n",
       "      <td>...</td>\n",
       "    </tr>\n",
       "    <tr>\n",
       "      <th>995</th>\n",
       "      <td>8.667526</td>\n",
       "      <td>ensoleillé</td>\n",
       "      <td>0</td>\n",
       "      <td>voiture</td>\n",
       "      <td>1</td>\n",
       "      <td>0</td>\n",
       "    </tr>\n",
       "    <tr>\n",
       "      <th>996</th>\n",
       "      <td>21.036546</td>\n",
       "      <td>pluvieux</td>\n",
       "      <td>0</td>\n",
       "      <td>voiture</td>\n",
       "      <td>1</td>\n",
       "      <td>1</td>\n",
       "    </tr>\n",
       "    <tr>\n",
       "      <th>997</th>\n",
       "      <td>11.067236</td>\n",
       "      <td>ensoleillé</td>\n",
       "      <td>0</td>\n",
       "      <td>voiture</td>\n",
       "      <td>1</td>\n",
       "      <td>0</td>\n",
       "    </tr>\n",
       "    <tr>\n",
       "      <th>998</th>\n",
       "      <td>1.120886</td>\n",
       "      <td>pluvieux</td>\n",
       "      <td>0</td>\n",
       "      <td>moto</td>\n",
       "      <td>0</td>\n",
       "      <td>1</td>\n",
       "    </tr>\n",
       "    <tr>\n",
       "      <th>999</th>\n",
       "      <td>9.551947</td>\n",
       "      <td>ensoleillé</td>\n",
       "      <td>0</td>\n",
       "      <td>voiture</td>\n",
       "      <td>1</td>\n",
       "      <td>0</td>\n",
       "    </tr>\n",
       "  </tbody>\n",
       "</table>\n",
       "<p>1000 rows × 6 columns</p>\n",
       "</div>"
      ],
      "text/plain": [
       "      Distance       temps  HeurePointe ChoixMode  Voiture  pluvieux\n",
       "0    21.197606  ensoleillé            0   voiture        1         0\n",
       "1     9.298041    pluvieux            1      moto        0         1\n",
       "2     7.578692  ensoleillé            0      moto        0         0\n",
       "3    16.988128    pluvieux            0   voiture        1         1\n",
       "4    21.864600  ensoleillé            0      moto        0         0\n",
       "..         ...         ...          ...       ...      ...       ...\n",
       "995   8.667526  ensoleillé            0   voiture        1         0\n",
       "996  21.036546    pluvieux            0   voiture        1         1\n",
       "997  11.067236  ensoleillé            0   voiture        1         0\n",
       "998   1.120886    pluvieux            0      moto        0         1\n",
       "999   9.551947  ensoleillé            0   voiture        1         0\n",
       "\n",
       "[1000 rows x 6 columns]"
      ]
     },
     "execution_count": 6,
     "metadata": {},
     "output_type": "execute_result"
    }
   ],
   "source": [
    "data['Voiture'] = 1 * (data['ChoixMode'] ==\"voiture\")\n",
    "data['pluvieux'] = 1 * (data['temps'] ==\"pluvieux\")\n",
    "\n",
    "data"
   ]
  },
  {
   "cell_type": "markdown",
   "metadata": {},
   "source": [
    "#### Tâche 6a: Représenter un nuage de points entre la variable *ChoixMode* (en ordonnée) et la variable *Distance*"
   ]
  },
  {
   "cell_type": "code",
   "execution_count": 7,
   "metadata": {},
   "outputs": [
    {
     "data": {
      "text/plain": [
       "<matplotlib.collections.PathCollection at 0x16689b0be50>"
      ]
     },
     "execution_count": 7,
     "metadata": {},
     "output_type": "execute_result"
    },
    {
     "data": {
      "image/png": "[encoded data removed]",
      "text/plain": [
       "<Figure size 640x480 with 1 Axes>"
      ]
     },
     "metadata": {},
     "output_type": "display_data"
    }
   ],
   "source": [
    "#%matplotlib inline\n",
    "plt.scatter(data.Distance, data.ChoixMode)"
   ]
  },
  {
   "cell_type": "markdown",
   "metadata": {},
   "source": [
    "#### Tâche 6b: Ajouter la droite d'ajustement linéaire au nuage de points entre le choix modal et la distance. Vous pourriez utiliser la fonction *regplot()* de la librairie *seaborn*. Commenter la nature de la relation entre le choix modal et la distance à parcourir."
   ]
  },
  {
   "cell_type": "code",
   "execution_count": 8,
   "metadata": {},
   "outputs": [
    {
     "data": {
      "text/plain": [
       "<Axes: xlabel='Distance', ylabel='Voiture'>"
      ]
     },
     "execution_count": 8,
     "metadata": {},
     "output_type": "execute_result"
    },
    {
     "data": {
      "image/png": "[encoded data removed]",
      "text/plain": [
       "<Figure size 640x480 with 1 Axes>"
      ]
     },
     "metadata": {},
     "output_type": "display_data"
    }
   ],
   "source": [
    "sns.regplot(x=data.Distance, y=data.Voiture, ci=False)"
   ]
  },
  {
   "cell_type": "markdown",
   "metadata": {},
   "source": [
    "Nous voulons prédire  la probabilité de choisir la voiture comme moyen de déplacement entere le Domicile et le lieu de travail en fonction des conditions de déplacement.\n",
    "\n",
    "$Prob((voiture=1)/X)=f(Distance, temps, heure de pointe)$\n",
    "\n",
    "#### Tâche 7: Estimer cette probabilité par les Moindres Carrés Ordinaires (MCO), c'est à dire estimez un modèle de régression linéaire."
   ]
  },
  {
   "attachments": {},
   "cell_type": "markdown",
   "metadata": {},
   "source": [
    "Nous voulons prédire  la probabilité de choisir la voiture comme moyen de déplacement Domicile Travail en fonction des caractéristiques de l'individu et du temps qu'il fait et de la distance. \n",
    "\n",
    "Créer dans un premier temps un vecteur *y* contenant la variable dépendante (cible) et *X* une matrice contenant les variables explicatives (caractéristiques)"
   ]
  },
  {
   "cell_type": "code",
   "execution_count": 9,
   "metadata": {},
   "outputs": [
    {
     "data": {
      "text/html": [
       "<div>\n",
       "<style scoped>\n",
       "    .dataframe tbody tr th:only-of-type {\n",
       "        vertical-align: middle;\n",
       "    }\n",
       "\n",
       "    .dataframe tbody tr th {\n",
       "        vertical-align: top;\n",
       "    }\n",
       "\n",
       "    .dataframe thead th {\n",
       "        text-align: right;\n",
       "    }\n",
       "</style>\n",
       "<table border=\"1\" class=\"dataframe\">\n",
       "  <thead>\n",
       "    <tr style=\"text-align: right;\">\n",
       "      <th></th>\n",
       "      <th>Voiture</th>\n",
       "    </tr>\n",
       "  </thead>\n",
       "  <tbody>\n",
       "    <tr>\n",
       "      <th>0</th>\n",
       "      <td>1</td>\n",
       "    </tr>\n",
       "    <tr>\n",
       "      <th>1</th>\n",
       "      <td>0</td>\n",
       "    </tr>\n",
       "    <tr>\n",
       "      <th>2</th>\n",
       "      <td>0</td>\n",
       "    </tr>\n",
       "    <tr>\n",
       "      <th>3</th>\n",
       "      <td>1</td>\n",
       "    </tr>\n",
       "    <tr>\n",
       "      <th>4</th>\n",
       "      <td>0</td>\n",
       "    </tr>\n",
       "    <tr>\n",
       "      <th>...</th>\n",
       "      <td>...</td>\n",
       "    </tr>\n",
       "    <tr>\n",
       "      <th>995</th>\n",
       "      <td>1</td>\n",
       "    </tr>\n",
       "    <tr>\n",
       "      <th>996</th>\n",
       "      <td>1</td>\n",
       "    </tr>\n",
       "    <tr>\n",
       "      <th>997</th>\n",
       "      <td>1</td>\n",
       "    </tr>\n",
       "    <tr>\n",
       "      <th>998</th>\n",
       "      <td>0</td>\n",
       "    </tr>\n",
       "    <tr>\n",
       "      <th>999</th>\n",
       "      <td>1</td>\n",
       "    </tr>\n",
       "  </tbody>\n",
       "</table>\n",
       "<p>1000 rows × 1 columns</p>\n",
       "</div>"
      ],
      "text/plain": [
       "     Voiture\n",
       "0          1\n",
       "1          0\n",
       "2          0\n",
       "3          1\n",
       "4          0\n",
       "..       ...\n",
       "995        1\n",
       "996        1\n",
       "997        1\n",
       "998        0\n",
       "999        1\n",
       "\n",
       "[1000 rows x 1 columns]"
      ]
     },
     "execution_count": 9,
     "metadata": {},
     "output_type": "execute_result"
    }
   ],
   "source": [
    "# Séparer les données en variables explicatives (X) et variable cible (y)\n",
    "X = data[['Distance','pluvieux', 'HeurePointe']]\n",
    "y = data[['Voiture']]\n",
    "\n",
    "X \n",
    "y"
   ]
  },
  {
   "cell_type": "markdown",
   "metadata": {},
   "source": [
    "Estimation du modèle par MCO: utiliser la fonction *OLS()* de la librairie *statsmodels*"
   ]
  },
  {
   "cell_type": "code",
   "execution_count": 10,
   "metadata": {},
   "outputs": [
    {
     "name": "stdout",
     "output_type": "stream",
     "text": [
      "                                 OLS Regression Results                                \n",
      "=======================================================================================\n",
      "Dep. Variable:                Voiture   R-squared (uncentered):                   0.659\n",
      "Model:                            OLS   Adj. R-squared (uncentered):              0.658\n",
      "Method:                 Least Squares   F-statistic:                              641.8\n",
      "Date:                Sun, 16 Jul 2023   Prob (F-statistic):                   3.11e-232\n",
      "Time:                        23:03:47   Log-Likelihood:                         -597.54\n",
      "No. Observations:                1000   AIC:                                      1201.\n",
      "Df Residuals:                     997   BIC:                                      1216.\n",
      "Df Model:                           3                                                  \n",
      "Covariance Type:            nonrobust                                                  \n",
      "===============================================================================\n",
      "                  coef    std err          t      P>|t|      [0.025      0.975]\n",
      "-------------------------------------------------------------------------------\n",
      "Distance        0.0352      0.001     32.790      0.000       0.033       0.037\n",
      "pluvieux        0.1106      0.026      4.285      0.000       0.060       0.161\n",
      "HeurePointe    -0.4931      0.034    -14.481      0.000      -0.560      -0.426\n",
      "==============================================================================\n",
      "Omnibus:                       12.290   Durbin-Watson:                   2.026\n",
      "Prob(Omnibus):                  0.002   Jarque-Bera (JB):               12.436\n",
      "Skew:                          -0.271   Prob(JB):                      0.00199\n",
      "Kurtosis:                       3.063   Cond. No.                         43.1\n",
      "==============================================================================\n",
      "\n",
      "Notes:\n",
      "[1] R² is computed without centering (uncentered) since the model does not contain a constant.\n",
      "[2] Standard Errors assume that the covariance matrix of the errors is correctly specified.\n"
     ]
    }
   ],
   "source": [
    "model_mco = sm.OLS(y, X)\n",
    "results_mco = model_mco.fit()\n",
    "# Avec  statsmodel, on a une sortie qui ressemble beaucoup à celle de R ou autres logiciels purement statistiques\n",
    "print(results_mco.summary())"
   ]
  },
  {
   "cell_type": "code",
   "execution_count": 11,
   "metadata": {},
   "outputs": [
    {
     "name": "stdout",
     "output_type": "stream",
     "text": [
      "Coefficients [[ 0.03520608  0.11062769 -0.49312209]]\n"
     ]
    }
   ],
   "source": [
    "lin_reg=LinearRegression(fit_intercept=False).fit(X, y)\n",
    "print(\"Coefficients\", lin_reg.coef_)"
   ]
  },
  {
   "cell_type": "markdown",
   "metadata": {},
   "source": [
    "##### Prédire la probabilité de choisir la voiture à partir du modèle estimé et étant donné la matrice des caractéristiques X. Inclure ce vecteur de probabilités prédite (y_pred) dans la base de donnée contenant l'ensemble des variables. Ensuite classer ces probabilités telles que \n",
    "Si $ProbPrédite(voiture=1/X)>50\\%$,  alors le choix modal prédit par le modèle pour l'individu est la voiture, sinon, c'est la moto pour effectuer son déplacement.\n",
    "Calculer le pourcentage de probabilités prédites abbérantes(>1 ou <0>), le pourcentage de classification correcte parmi les probabilités prédites définies et le pourcentage de classification incorrecte. "
   ]
  },
  {
   "cell_type": "code",
   "execution_count": 12,
   "metadata": {},
   "outputs": [
    {
     "data": {
      "text/html": [
       "<div>\n",
       "<style scoped>\n",
       "    .dataframe tbody tr th:only-of-type {\n",
       "        vertical-align: middle;\n",
       "    }\n",
       "\n",
       "    .dataframe tbody tr th {\n",
       "        vertical-align: top;\n",
       "    }\n",
       "\n",
       "    .dataframe thead th {\n",
       "        text-align: right;\n",
       "    }\n",
       "</style>\n",
       "<table border=\"1\" class=\"dataframe\">\n",
       "  <thead>\n",
       "    <tr style=\"text-align: right;\">\n",
       "      <th>col_0</th>\n",
       "      <th>%</th>\n",
       "    </tr>\n",
       "    <tr>\n",
       "      <th>prob_pred_aberr</th>\n",
       "      <th></th>\n",
       "    </tr>\n",
       "  </thead>\n",
       "  <tbody>\n",
       "    <tr>\n",
       "      <th>Aberrante</th>\n",
       "      <td>16.8</td>\n",
       "    </tr>\n",
       "    <tr>\n",
       "      <th>Définie</th>\n",
       "      <td>83.2</td>\n",
       "    </tr>\n",
       "  </tbody>\n",
       "</table>\n",
       "</div>"
      ],
      "text/plain": [
       "col_0               %\n",
       "prob_pred_aberr      \n",
       "Aberrante        16.8\n",
       "Définie          83.2"
      ]
     },
     "execution_count": 12,
     "metadata": {},
     "output_type": "execute_result"
    }
   ],
   "source": [
    "data['y_pred']= results_mco.predict(X)\n",
    "data['prob_pred_aberr'] = np.where((data.y_pred < 0) | (data.y_pred >1) , 'Aberrante', 'Définie')\n",
    "#pd.crosstab(index=data['prob_pred_abber'], columns='Count')\n",
    "pd.crosstab(index=data['prob_pred_aberr'], columns='%')*100/1000"
   ]
  },
  {
   "cell_type": "code",
   "execution_count": 13,
   "metadata": {},
   "outputs": [
    {
     "data": {
      "text/html": [
       "<div>\n",
       "<style scoped>\n",
       "    .dataframe tbody tr th:only-of-type {\n",
       "        vertical-align: middle;\n",
       "    }\n",
       "\n",
       "    .dataframe tbody tr th {\n",
       "        vertical-align: top;\n",
       "    }\n",
       "\n",
       "    .dataframe thead th {\n",
       "        text-align: right;\n",
       "    }\n",
       "</style>\n",
       "<table border=\"1\" class=\"dataframe\">\n",
       "  <thead>\n",
       "    <tr style=\"text-align: right;\">\n",
       "      <th></th>\n",
       "      <th>Distance</th>\n",
       "      <th>temps</th>\n",
       "      <th>HeurePointe</th>\n",
       "      <th>ChoixMode</th>\n",
       "      <th>Voiture</th>\n",
       "      <th>pluvieux</th>\n",
       "      <th>y_pred</th>\n",
       "      <th>prob_pred_aberr</th>\n",
       "    </tr>\n",
       "  </thead>\n",
       "  <tbody>\n",
       "    <tr>\n",
       "      <th>0</th>\n",
       "      <td>21.197606</td>\n",
       "      <td>ensoleillé</td>\n",
       "      <td>0</td>\n",
       "      <td>voiture</td>\n",
       "      <td>1</td>\n",
       "      <td>0</td>\n",
       "      <td>0.746285</td>\n",
       "      <td>Définie</td>\n",
       "    </tr>\n",
       "    <tr>\n",
       "      <th>2</th>\n",
       "      <td>7.578692</td>\n",
       "      <td>ensoleillé</td>\n",
       "      <td>0</td>\n",
       "      <td>moto</td>\n",
       "      <td>0</td>\n",
       "      <td>0</td>\n",
       "      <td>0.266816</td>\n",
       "      <td>Définie</td>\n",
       "    </tr>\n",
       "    <tr>\n",
       "      <th>3</th>\n",
       "      <td>16.988128</td>\n",
       "      <td>pluvieux</td>\n",
       "      <td>0</td>\n",
       "      <td>voiture</td>\n",
       "      <td>1</td>\n",
       "      <td>1</td>\n",
       "      <td>0.708713</td>\n",
       "      <td>Définie</td>\n",
       "    </tr>\n",
       "    <tr>\n",
       "      <th>4</th>\n",
       "      <td>21.864600</td>\n",
       "      <td>ensoleillé</td>\n",
       "      <td>0</td>\n",
       "      <td>moto</td>\n",
       "      <td>0</td>\n",
       "      <td>0</td>\n",
       "      <td>0.769767</td>\n",
       "      <td>Définie</td>\n",
       "    </tr>\n",
       "    <tr>\n",
       "      <th>5</th>\n",
       "      <td>13.270087</td>\n",
       "      <td>pluvieux</td>\n",
       "      <td>0</td>\n",
       "      <td>voiture</td>\n",
       "      <td>1</td>\n",
       "      <td>1</td>\n",
       "      <td>0.577815</td>\n",
       "      <td>Définie</td>\n",
       "    </tr>\n",
       "    <tr>\n",
       "      <th>...</th>\n",
       "      <td>...</td>\n",
       "      <td>...</td>\n",
       "      <td>...</td>\n",
       "      <td>...</td>\n",
       "      <td>...</td>\n",
       "      <td>...</td>\n",
       "      <td>...</td>\n",
       "      <td>...</td>\n",
       "    </tr>\n",
       "    <tr>\n",
       "      <th>995</th>\n",
       "      <td>8.667526</td>\n",
       "      <td>ensoleillé</td>\n",
       "      <td>0</td>\n",
       "      <td>voiture</td>\n",
       "      <td>1</td>\n",
       "      <td>0</td>\n",
       "      <td>0.305150</td>\n",
       "      <td>Définie</td>\n",
       "    </tr>\n",
       "    <tr>\n",
       "      <th>996</th>\n",
       "      <td>21.036546</td>\n",
       "      <td>pluvieux</td>\n",
       "      <td>0</td>\n",
       "      <td>voiture</td>\n",
       "      <td>1</td>\n",
       "      <td>1</td>\n",
       "      <td>0.851242</td>\n",
       "      <td>Définie</td>\n",
       "    </tr>\n",
       "    <tr>\n",
       "      <th>997</th>\n",
       "      <td>11.067236</td>\n",
       "      <td>ensoleillé</td>\n",
       "      <td>0</td>\n",
       "      <td>voiture</td>\n",
       "      <td>1</td>\n",
       "      <td>0</td>\n",
       "      <td>0.389634</td>\n",
       "      <td>Définie</td>\n",
       "    </tr>\n",
       "    <tr>\n",
       "      <th>998</th>\n",
       "      <td>1.120886</td>\n",
       "      <td>pluvieux</td>\n",
       "      <td>0</td>\n",
       "      <td>moto</td>\n",
       "      <td>0</td>\n",
       "      <td>1</td>\n",
       "      <td>0.150090</td>\n",
       "      <td>Définie</td>\n",
       "    </tr>\n",
       "    <tr>\n",
       "      <th>999</th>\n",
       "      <td>9.551947</td>\n",
       "      <td>ensoleillé</td>\n",
       "      <td>0</td>\n",
       "      <td>voiture</td>\n",
       "      <td>1</td>\n",
       "      <td>0</td>\n",
       "      <td>0.336287</td>\n",
       "      <td>Définie</td>\n",
       "    </tr>\n",
       "  </tbody>\n",
       "</table>\n",
       "<p>832 rows × 8 columns</p>\n",
       "</div>"
      ],
      "text/plain": [
       "      Distance       temps  HeurePointe ChoixMode  Voiture  pluvieux  \\\n",
       "0    21.197606  ensoleillé            0   voiture        1         0   \n",
       "2     7.578692  ensoleillé            0      moto        0         0   \n",
       "3    16.988128    pluvieux            0   voiture        1         1   \n",
       "4    21.864600  ensoleillé            0      moto        0         0   \n",
       "5    13.270087    pluvieux            0   voiture        1         1   \n",
       "..         ...         ...          ...       ...      ...       ...   \n",
       "995   8.667526  ensoleillé            0   voiture        1         0   \n",
       "996  21.036546    pluvieux            0   voiture        1         1   \n",
       "997  11.067236  ensoleillé            0   voiture        1         0   \n",
       "998   1.120886    pluvieux            0      moto        0         1   \n",
       "999   9.551947  ensoleillé            0   voiture        1         0   \n",
       "\n",
       "       y_pred prob_pred_aberr  \n",
       "0    0.746285         Définie  \n",
       "2    0.266816         Définie  \n",
       "3    0.708713         Définie  \n",
       "4    0.769767         Définie  \n",
       "5    0.577815         Définie  \n",
       "..        ...             ...  \n",
       "995  0.305150         Définie  \n",
       "996  0.851242         Définie  \n",
       "997  0.389634         Définie  \n",
       "998  0.150090         Définie  \n",
       "999  0.336287         Définie  \n",
       "\n",
       "[832 rows x 8 columns]"
      ]
     },
     "execution_count": 13,
     "metadata": {},
     "output_type": "execute_result"
    }
   ],
   "source": [
    "data_pred=data[(data['prob_pred_aberr']=='Définie')]\n",
    "data_pred"
   ]
  },
  {
   "cell_type": "code",
   "execution_count": 14,
   "metadata": {},
   "outputs": [
    {
     "name": "stderr",
     "output_type": "stream",
     "text": [
      "C:\\Users\\errep\\AppData\\Local\\Temp\\ipykernel_37704\\2510372406.py:1: SettingWithCopyWarning: \n",
      "A value is trying to be set on a copy of a slice from a DataFrame.\n",
      "Try using .loc[row_indexer,col_indexer] = value instead\n",
      "\n",
      "See the caveats in the documentation: https://pandas.pydata.org/pandas-docs/stable/user_guide/indexing.html#returning-a-view-versus-a-copy\n",
      "  data_pred['y_pred_classes']=np.where(data_pred['y_pred']>0.5,'Voiture', 'Moto')\n"
     ]
    },
    {
     "data": {
      "text/html": [
       "<div>\n",
       "<style scoped>\n",
       "    .dataframe tbody tr th:only-of-type {\n",
       "        vertical-align: middle;\n",
       "    }\n",
       "\n",
       "    .dataframe tbody tr th {\n",
       "        vertical-align: top;\n",
       "    }\n",
       "\n",
       "    .dataframe thead th {\n",
       "        text-align: right;\n",
       "    }\n",
       "</style>\n",
       "<table border=\"1\" class=\"dataframe\">\n",
       "  <thead>\n",
       "    <tr style=\"text-align: right;\">\n",
       "      <th></th>\n",
       "      <th>ChoixMode</th>\n",
       "      <th>Voiture</th>\n",
       "      <th>y_pred</th>\n",
       "      <th>prob_pred_aberr</th>\n",
       "      <th>y_pred_classes</th>\n",
       "    </tr>\n",
       "  </thead>\n",
       "  <tbody>\n",
       "    <tr>\n",
       "      <th>0</th>\n",
       "      <td>voiture</td>\n",
       "      <td>1</td>\n",
       "      <td>0.746285</td>\n",
       "      <td>Définie</td>\n",
       "      <td>Voiture</td>\n",
       "    </tr>\n",
       "    <tr>\n",
       "      <th>2</th>\n",
       "      <td>moto</td>\n",
       "      <td>0</td>\n",
       "      <td>0.266816</td>\n",
       "      <td>Définie</td>\n",
       "      <td>Moto</td>\n",
       "    </tr>\n",
       "    <tr>\n",
       "      <th>3</th>\n",
       "      <td>voiture</td>\n",
       "      <td>1</td>\n",
       "      <td>0.708713</td>\n",
       "      <td>Définie</td>\n",
       "      <td>Voiture</td>\n",
       "    </tr>\n",
       "    <tr>\n",
       "      <th>4</th>\n",
       "      <td>moto</td>\n",
       "      <td>0</td>\n",
       "      <td>0.769767</td>\n",
       "      <td>Définie</td>\n",
       "      <td>Voiture</td>\n",
       "    </tr>\n",
       "    <tr>\n",
       "      <th>5</th>\n",
       "      <td>voiture</td>\n",
       "      <td>1</td>\n",
       "      <td>0.577815</td>\n",
       "      <td>Définie</td>\n",
       "      <td>Voiture</td>\n",
       "    </tr>\n",
       "    <tr>\n",
       "      <th>...</th>\n",
       "      <td>...</td>\n",
       "      <td>...</td>\n",
       "      <td>...</td>\n",
       "      <td>...</td>\n",
       "      <td>...</td>\n",
       "    </tr>\n",
       "    <tr>\n",
       "      <th>995</th>\n",
       "      <td>voiture</td>\n",
       "      <td>1</td>\n",
       "      <td>0.305150</td>\n",
       "      <td>Définie</td>\n",
       "      <td>Moto</td>\n",
       "    </tr>\n",
       "    <tr>\n",
       "      <th>996</th>\n",
       "      <td>voiture</td>\n",
       "      <td>1</td>\n",
       "      <td>0.851242</td>\n",
       "      <td>Définie</td>\n",
       "      <td>Voiture</td>\n",
       "    </tr>\n",
       "    <tr>\n",
       "      <th>997</th>\n",
       "      <td>voiture</td>\n",
       "      <td>1</td>\n",
       "      <td>0.389634</td>\n",
       "      <td>Définie</td>\n",
       "      <td>Moto</td>\n",
       "    </tr>\n",
       "    <tr>\n",
       "      <th>998</th>\n",
       "      <td>moto</td>\n",
       "      <td>0</td>\n",
       "      <td>0.150090</td>\n",
       "      <td>Définie</td>\n",
       "      <td>Moto</td>\n",
       "    </tr>\n",
       "    <tr>\n",
       "      <th>999</th>\n",
       "      <td>voiture</td>\n",
       "      <td>1</td>\n",
       "      <td>0.336287</td>\n",
       "      <td>Définie</td>\n",
       "      <td>Moto</td>\n",
       "    </tr>\n",
       "  </tbody>\n",
       "</table>\n",
       "<p>832 rows × 5 columns</p>\n",
       "</div>"
      ],
      "text/plain": [
       "    ChoixMode  Voiture    y_pred prob_pred_aberr y_pred_classes\n",
       "0     voiture        1  0.746285         Définie        Voiture\n",
       "2        moto        0  0.266816         Définie           Moto\n",
       "3     voiture        1  0.708713         Définie        Voiture\n",
       "4        moto        0  0.769767         Définie        Voiture\n",
       "5     voiture        1  0.577815         Définie        Voiture\n",
       "..        ...      ...       ...             ...            ...\n",
       "995   voiture        1  0.305150         Définie           Moto\n",
       "996   voiture        1  0.851242         Définie        Voiture\n",
       "997   voiture        1  0.389634         Définie           Moto\n",
       "998      moto        0  0.150090         Définie           Moto\n",
       "999   voiture        1  0.336287         Définie           Moto\n",
       "\n",
       "[832 rows x 5 columns]"
      ]
     },
     "execution_count": 14,
     "metadata": {},
     "output_type": "execute_result"
    }
   ],
   "source": [
    "data_pred['y_pred_classes']=np.where(data_pred['y_pred']>0.5,'Voiture', 'Moto')\n",
    "#check_class=data[['ChoixMode','Voiture','y_pred','prob_pred_aberr','y_pred_classes']]\n",
    "check_class_pred=data_pred[['ChoixMode','Voiture','y_pred','prob_pred_aberr','y_pred_classes']]\n",
    "check_class_pred"
   ]
  },
  {
   "cell_type": "code",
   "execution_count": 15,
   "metadata": {},
   "outputs": [
    {
     "data": {
      "text/html": [
       "<div>\n",
       "<style scoped>\n",
       "    .dataframe tbody tr th:only-of-type {\n",
       "        vertical-align: middle;\n",
       "    }\n",
       "\n",
       "    .dataframe tbody tr th {\n",
       "        vertical-align: top;\n",
       "    }\n",
       "\n",
       "    .dataframe thead th {\n",
       "        text-align: right;\n",
       "    }\n",
       "</style>\n",
       "<table border=\"1\" class=\"dataframe\">\n",
       "  <thead>\n",
       "    <tr style=\"text-align: right;\">\n",
       "      <th>y_pred_classes</th>\n",
       "      <th>Moto</th>\n",
       "      <th>Voiture</th>\n",
       "      <th>Total</th>\n",
       "    </tr>\n",
       "    <tr>\n",
       "      <th>ChoixMode</th>\n",
       "      <th></th>\n",
       "      <th></th>\n",
       "      <th></th>\n",
       "    </tr>\n",
       "  </thead>\n",
       "  <tbody>\n",
       "    <tr>\n",
       "      <th>moto</th>\n",
       "      <td>269</td>\n",
       "      <td>79</td>\n",
       "      <td>348</td>\n",
       "    </tr>\n",
       "    <tr>\n",
       "      <th>voiture</th>\n",
       "      <td>151</td>\n",
       "      <td>333</td>\n",
       "      <td>484</td>\n",
       "    </tr>\n",
       "    <tr>\n",
       "      <th>Total</th>\n",
       "      <td>420</td>\n",
       "      <td>412</td>\n",
       "      <td>832</td>\n",
       "    </tr>\n",
       "  </tbody>\n",
       "</table>\n",
       "</div>"
      ],
      "text/plain": [
       "y_pred_classes  Moto  Voiture  Total\n",
       "ChoixMode                           \n",
       "moto             269       79    348\n",
       "voiture          151      333    484\n",
       "Total            420      412    832"
      ]
     },
     "execution_count": 15,
     "metadata": {},
     "output_type": "execute_result"
    }
   ],
   "source": [
    "pd.crosstab(data.ChoixMode, data_pred.y_pred_classes, margins=True, margins_name=\"Total\")"
   ]
  },
  {
   "cell_type": "code",
   "execution_count": 16,
   "metadata": {},
   "outputs": [
    {
     "data": {
      "text/html": [
       "<div>\n",
       "<style scoped>\n",
       "    .dataframe tbody tr th:only-of-type {\n",
       "        vertical-align: middle;\n",
       "    }\n",
       "\n",
       "    .dataframe tbody tr th {\n",
       "        vertical-align: top;\n",
       "    }\n",
       "\n",
       "    .dataframe thead th {\n",
       "        text-align: right;\n",
       "    }\n",
       "</style>\n",
       "<table border=\"1\" class=\"dataframe\">\n",
       "  <thead>\n",
       "    <tr style=\"text-align: right;\">\n",
       "      <th>y_pred_classes</th>\n",
       "      <th>Moto</th>\n",
       "      <th>Voiture</th>\n",
       "      <th>Total</th>\n",
       "    </tr>\n",
       "    <tr>\n",
       "      <th>ChoixMode</th>\n",
       "      <th></th>\n",
       "      <th></th>\n",
       "      <th></th>\n",
       "    </tr>\n",
       "  </thead>\n",
       "  <tbody>\n",
       "    <tr>\n",
       "      <th>moto</th>\n",
       "      <td>26.9</td>\n",
       "      <td>7.9</td>\n",
       "      <td>34.8</td>\n",
       "    </tr>\n",
       "    <tr>\n",
       "      <th>voiture</th>\n",
       "      <td>15.1</td>\n",
       "      <td>33.3</td>\n",
       "      <td>48.4</td>\n",
       "    </tr>\n",
       "    <tr>\n",
       "      <th>Total</th>\n",
       "      <td>42.0</td>\n",
       "      <td>41.2</td>\n",
       "      <td>83.2</td>\n",
       "    </tr>\n",
       "  </tbody>\n",
       "</table>\n",
       "</div>"
      ],
      "text/plain": [
       "y_pred_classes  Moto  Voiture  Total\n",
       "ChoixMode                           \n",
       "moto            26.9      7.9   34.8\n",
       "voiture         15.1     33.3   48.4\n",
       "Total           42.0     41.2   83.2"
      ]
     },
     "execution_count": 16,
     "metadata": {},
     "output_type": "execute_result"
    }
   ],
   "source": [
    "pd.crosstab(data.ChoixMode, data_pred.y_pred_classes, margins=True, margins_name=\"Total\")*100/832 # Classification dans la limite des prob définies\n",
    "pd.crosstab(data.ChoixMode, data_pred.y_pred_classes, margins=True, margins_name=\"Total\")*100/1000 # classification dans l'ensemble"
   ]
  },
  {
   "cell_type": "markdown",
   "metadata": {},
   "source": [
    "#### Tâche 8 : Estimer le modèle par Régression  Logistique en utilisant statmodels. Commenter les résultats."
   ]
  },
  {
   "cell_type": "code",
   "execution_count": 17,
   "metadata": {},
   "outputs": [
    {
     "name": "stdout",
     "output_type": "stream",
     "text": [
      "Optimization terminated successfully.\n",
      "         Current function value: 0.515025\n",
      "         Iterations 6\n",
      "                           Logit Regression Results                           \n",
      "==============================================================================\n",
      "Dep. Variable:                Voiture   No. Observations:                 1000\n",
      "Model:                          Logit   Df Residuals:                      997\n",
      "Method:                           MLE   Df Model:                            2\n",
      "Date:                Sun, 16 Jul 2023   Pseudo R-squ.:                  0.2472\n",
      "Time:                        23:03:47   Log-Likelihood:                -515.02\n",
      "converged:                       True   LL-Null:                       -684.14\n",
      "Covariance Type:            nonrobust   LLR p-value:                 3.575e-74\n",
      "===============================================================================\n",
      "                  coef    std err          z      P>|z|      [0.025      0.975]\n",
      "-------------------------------------------------------------------------------\n",
      "Distance        0.0790      0.007     11.743      0.000       0.066       0.092\n",
      "pluvieux       -0.3753      0.141     -2.671      0.008      -0.651      -0.100\n",
      "HeurePointe    -3.1607      0.240    -13.183      0.000      -3.631      -2.691\n",
      "===============================================================================\n"
     ]
    }
   ],
   "source": [
    "# Estimer  le même modèle par une  régression logistique\n",
    "model = sm.Logit(y, X)\n",
    "resultat = model.fit()\n",
    "print(resultat.summary())"
   ]
  },
  {
   "cell_type": "markdown",
   "metadata": {},
   "source": [
    "#### Tâche 9: Estimer le modèle en utilisant la librairie sklearn. Déterminer   le taux de prédictions correctes (score())."
   ]
  },
  {
   "cell_type": "code",
   "execution_count": 18,
   "metadata": {},
   "outputs": [
    {
     "name": "stdout",
     "output_type": "stream",
     "text": [
      "Coefficients [[ 0.076907   -0.36001955 -2.99470717]]\n"
     ]
    },
    {
     "name": "stderr",
     "output_type": "stream",
     "text": [
      "c:\\Users\\errep\\AppData\\Local\\Programs\\Python\\Python311\\Lib\\site-packages\\sklearn\\utils\\validation.py:1184: DataConversionWarning: A column-vector y was passed when a 1d array was expected. Please change the shape of y to (n_samples, ), for example using ravel().\n",
      "  y = column_or_1d(y, warn=True)\n"
     ]
    },
    {
     "data": {
      "text/plain": [
       "0.753"
      ]
     },
     "execution_count": 18,
     "metadata": {},
     "output_type": "execute_result"
    }
   ],
   "source": [
    "Log_Reg = LogisticRegression(fit_intercept=False).fit(X,y)\n",
    "print(\"Coefficients\", Log_Reg.coef_)\n",
    "Log_Reg.score(X,y)  ### Exactitude/Accuracy>>>>Taux de prédictions correctes"
   ]
  },
  {
   "attachments": {},
   "cell_type": "markdown",
   "metadata": {},
   "source": [
    "#### Tâche 10: A l'aide d'une matrice de confusion déterminer la précision, la sensibilité et la spécificité de la capacité prédictive de notre modèle et son taux de faux positifs.\n",
    "#### Quelques définitions d'indicateurs de performance de la classification\n",
    "\n",
    "##### Matrice de confusion: c'est un tableau croisé entre la classification prédite (classe des positifs/classe des négatifs prédites par le modèle) et la classification réelle (classe des positifs/classe des négatifs effectivement observées). Il met en exergue les prédictions suivantes: *VP (Vrais Positifs), VN (Vrais Négatifs), FP (Faux Positifs) et FN (Faux Négatifs)*. Les notions  *positif* et *négatif* viennent de la médecine où il est courant de tester la présence ou non d'un antigène ou  d'une maladie dans le sang. Mais en classification binaire, on peut comprendre ces termes de façon plus générale en considérant le \"positif\" comme  étant la caractéristique que l'on souhaite prédire/détecter avec notre modèle et le  \"négatif\" comme représentant la caractéristique alternative (qui va donc marquer l'absence de la caractéristique).\n",
    "\n",
    "##### Exactitude (Accuracy) : \n",
    "$\\dfrac{VP+VN}{VP+VN+FP+FN} $ \n",
    "\n",
    "Plus elle est proche de 1, meilleur est le test (Count R^2 en économétrie). C'est une mesure globale de la performance du modèle qui indique la proportion d'individus correctement classés (ici dans leur choix du mode de transport) par le modèle, étant donné leur choix effectif. Une façon de rendre cette mesure moins tributaire de la catégorie de la variable cible la plus fréquente est de soustraire le nombre d'observations de cette catégorie du numérateur et du dénominateur de la formule accuracy (Count R^2 adjusté). Autrement, même un modèle naïf (farfelu) qui prédirait par exemple que tous les individus de l'échantillon ont choisi la voiture (catégorie de la variable cible la plus fréquente dans notre base de données) pour se déplacer aurait un accuracy élevé, notamment la distribution (classe 1 classe 2) est très asymétrique. Dans notre cas par exemple où nous prédisosn le choix de voiture pour se déplacer, un modèle qui aurait prédit que tout le monde choisit la voiture aurai eu un accuracy de 57\\% (proportion de voitures dans notre base de données).\n",
    "\n",
    "\n",
    "\n",
    "##### Précision (Precision) : \n",
    "\n",
    "$Precision=\\dfrac{VP}{VP+FP} $ \n",
    "\n",
    "Elle correspond à la proportion de prédictions de la présence de la caractéristique d'intérêt chez des individus qui la présentent   effectivement (\"les vrais positifs\") dans l'ensemble des individus prédits comme étant positifs.  Les médecins par exemple seraient intéressés de comprendre cet indicateur comme étant la capacité à détecter les vrais malades (du COVID par exemple) parmi les patients potentiellement malades (le total des positifs prédits). Ainsi plus le nombre de FP pédit par le modèle est élevé, moins précis sera le modèle.\n",
    "\n",
    "Note: un faux positif est un vrai négatif non détecté.\n",
    "\n",
    "##### Rappel (Recall) ou Sensibilité (aussi appelée taux de VP)  TVP: \n",
    "\n",
    "$Sensibilité=\\dfrac{VP}{VP+FN} $ \n",
    "\n",
    "C'est la proportion d'individus positifs effectivement bien détectés par le classifieur (votre modèle) dans l'ensemble des individus positifs de la base de données. Il mesure la sensibilité de la prédiction/du modèle/du test. Plus le modèle prédit de FN, plus faible sera son rappel (sa sensibilité). En médécine, ce serait la capacité à distinguer les malades parmi les malades. \n",
    "\n",
    "Note: un faux négatif est un vrai positif non détecté.\n",
    "\n",
    "#### Taux de vrais négatifs (TVN) ou spécificité du test.\n",
    "\n",
    "$Spécificité=\\dfrac{VN}{VN+FP}$\n",
    "\n",
    "Il mesure la capacité du classifieur à prédire les VN (non-malades) parmi les négatifs (non-malades) de la base de données. \n",
    "\n",
    "#### Taux de faux positifs (TFP)\n",
    "De la même manière le taux de faux positifs, la probabilité d'une fausse alerte (fausse identification) est donné par :\n",
    "$TFP=\\dfrac{FP}{FP+VN}=1-Specificité$\n",
    "\n",
    "\n",
    "##### F1-score :\n",
    "Le F1-score est une moyenne harmonique de la précision et du rappel. Il combine ces deux mesures en une seule valeur qui permet d'évaluer la performance globale du modèle. Un bon score F1 signifie que les FP et les FN (les erreurs de prédiction) sont faibles. \n",
    "\n",
    "\n",
    "\n",
    "\n"
   ]
  },
  {
   "cell_type": "code",
   "execution_count": 19,
   "metadata": {},
   "outputs": [
    {
     "data": {
      "text/plain": [
       "<Axes: xlabel='Choix modal observé', ylabel='Choix modal prédit'>"
      ]
     },
     "execution_count": 19,
     "metadata": {},
     "output_type": "execute_result"
    },
    {
     "data": {
      "image/png": "[encoded data removed]",
      "text/plain": [
       "<Figure size 640x480 with 2 Axes>"
      ]
     },
     "metadata": {},
     "output_type": "display_data"
    }
   ],
   "source": [
    "data['y_pred_log']=Log_Reg.predict(X) #la classification prédite par le modèle \n",
    "data['class_pred_logreg']=np.where(data['y_pred_log']==1, 'voiture', 'moto')  #Mettre les labels en phase avec notre contexte\n",
    "\n",
    "#conf_matrix=confusion_matrix(data.ChoixMode, data.class_pred_logreg)\n",
    "matrice_confusion= pd.crosstab(data.class_pred_logreg,data.ChoixMode, rownames=['Choix modal prédit'], colnames=['Choix modal observé'])\n",
    "sns.heatmap(matrice_confusion, annot=True, fmt='g')\n",
    "\n"
   ]
  },
  {
   "cell_type": "code",
   "execution_count": 20,
   "metadata": {},
   "outputs": [],
   "source": [
    "#confusion_matrix(data.ChoixMode, data.class_pred_logreg)"
   ]
  },
  {
   "cell_type": "code",
   "execution_count": 21,
   "metadata": {},
   "outputs": [
    {
     "data": {
      "text/plain": [
       "0.753"
      ]
     },
     "execution_count": 21,
     "metadata": {},
     "output_type": "execute_result"
    }
   ],
   "source": [
    "# Accuracy (Exactitude) calculé plus haut, même valeur\n",
    "(216+537)/1000"
   ]
  },
  {
   "cell_type": "code",
   "execution_count": 22,
   "metadata": {},
   "outputs": [
    {
     "name": "stdout",
     "output_type": "stream",
     "text": [
      "La précision est  de 0.71\n",
      "La sensibilité (recall) est de 0.95\n",
      "La spécificité (TVN) est de 0.50\n",
      "Le score F1 est de 0.81\n"
     ]
    }
   ],
   "source": [
    "print('La précision est  de {:.2f}'.format(537/(537+217)))\n",
    "print('La sensibilité (recall) est de {:.2f}'.format(537/(537+30)))\n",
    "print('La spécificité (TVN) est de {:.2f}'.format(216/(216+217)))\n",
    "print('Le score F1 est de {:.2f}'.format(2*(537/(537+217))*537/(537+30)/((537/(537+217))+537/(537+30))))  #2*precision*recall/(precision+recall)\n"
   ]
  },
  {
   "cell_type": "code",
   "execution_count": 23,
   "metadata": {},
   "outputs": [
    {
     "data": {
      "text/plain": [
       "(array([0.87804878, 0.71220159]),\n",
       " array([0.49884527, 0.94708995]),\n",
       " array([0.63622975, 0.81302044]),\n",
       " array([433, 567], dtype=int64))"
      ]
     },
     "execution_count": 23,
     "metadata": {},
     "output_type": "execute_result"
    }
   ],
   "source": [
    "precision_recall_fscore_support(data.ChoixMode, data.class_pred_logreg)"
   ]
  },
  {
   "cell_type": "code",
   "execution_count": 24,
   "metadata": {},
   "outputs": [
    {
     "name": "stdout",
     "output_type": "stream",
     "text": [
      "              precision    recall  f1-score   support\n",
      "\n",
      "        moto       0.88      0.50      0.64       433\n",
      "     voiture       0.71      0.95      0.81       567\n",
      "\n",
      "    accuracy                           0.75      1000\n",
      "   macro avg       0.80      0.72      0.72      1000\n",
      "weighted avg       0.78      0.75      0.74      1000\n",
      "\n"
     ]
    }
   ],
   "source": [
    "print(classification_report(data.ChoixMode,  data.class_pred_logreg))"
   ]
  },
  {
   "cell_type": "markdown",
   "metadata": {},
   "source": [
    "#### Tâche 11:  Représenter la courbe ROC et interpréter l'AUC (Area Under the Curve)\n",
    "Note: Une courbe ROC (Receiver Operating Characteristic) est un graphe qui montre les performances d'un modèle de classification à tous les seuils de classification. Cette courbe représente deux paramètres: le taux de vrais positifs et le taux de faux positifs. Le courbe ROC résume ainsi  l'arbitrage entre le TVP et le TFP, c'est à dire entre la sensibilité du modèle et (1- spécificité).\n",
    "En règle générale, entre  0,9 et 1 = Modèle excellent; 0,8–0,9 = bon modèle; 0,7–0,8 = Pas mal; 0,6–0,7 = Médiocre; 0,50–0,6 = Mauvais."
   ]
  },
  {
   "cell_type": "code",
   "execution_count": 25,
   "metadata": {},
   "outputs": [
    {
     "data": {
      "text/plain": [
       "<matplotlib.legend.Legend at 0x1668bd43b90>"
      ]
     },
     "execution_count": 25,
     "metadata": {},
     "output_type": "execute_result"
    },
    {
     "data": {
      "image/png": "[encoded data removed]",
      "text/plain": [
       "<Figure size 640x480 with 1 Axes>"
      ]
     },
     "metadata": {},
     "output_type": "display_data"
    }
   ],
   "source": [
    "logit_roc_auc = roc_auc_score(y, Log_Reg.predict(X))\n",
    "fpr, tpr, thresholds = roc_curve(y, Log_Reg.predict_proba(X)[:,1])\n",
    "plt.figure()\n",
    "plt.plot(fpr, tpr, label='Régression Logistique (Aire = %0.2f)' % logit_roc_auc)\n",
    "plt.plot([0, 1], [0, 1],'r--')\n",
    "plt.xlim([0.0, 1.0])\n",
    "plt.ylim([0.0, 1.05])\n",
    "plt.xlabel('Taux de Faux  Positifs')\n",
    "plt.ylabel('Taux de Vrai Positifs')\n",
    "plt.title('Receiver operating characteristic')\n",
    "plt.legend(loc=\"lower right\")\n"
   ]
  },
  {
   "cell_type": "code",
   "execution_count": null,
   "metadata": {},
   "outputs": [],
   "source": []
  }
 ],
 "metadata": {
  "kernelspec": {
   "display_name": "Python 3",
   "language": "python",
   "name": "python3"
  },
  "language_info": {
   "codemirror_mode": {
    "name": "ipython",
    "version": 3
   },
   "file_extension": ".py",
   "mimetype": "text/x-python",
   "name": "python",
   "nbconvert_exporter": "python",
   "pygments_lexer": "ipython3",
   "version": "3.11.4"
  },
  "orig_nbformat": 4
 },
 "nbformat": 4,
 "nbformat_minor": 2
}
